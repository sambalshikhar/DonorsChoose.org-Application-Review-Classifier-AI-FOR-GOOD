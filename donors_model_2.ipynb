{
  "nbformat": 4,
  "nbformat_minor": 0,
  "metadata": {
    "colab": {
      "name": "donors_model_2.ipynb",
      "version": "0.3.2",
      "provenance": [],
      "collapsed_sections": []
    },
    "kernelspec": {
      "name": "python3",
      "display_name": "Python 3"
    },
    "accelerator": "GPU"
  },
  "cells": [
    {
      "cell_type": "markdown",
      "metadata": {
        "id": "Y1lo9onTsnXi",
        "colab_type": "text"
      },
      "source": [
        "**LOADING THE PREPROCESSED DATA**"
      ]
    },
    {
      "cell_type": "code",
      "metadata": {
        "id": "DD0DaNz2sm1y",
        "colab_type": "code",
        "outputId": "8ab3444e-6f7c-4a85-a538-7a9fbe57dd93",
        "colab": {
          "base_uri": "https://localhost:8080/",
          "height": 34
        }
      },
      "source": [
        "from google.colab import drive\n",
        "drive.mount('/content/gdrive')"
      ],
      "execution_count": 609,
      "outputs": [
        {
          "output_type": "stream",
          "text": [
            "Drive already mounted at /content/gdrive; to attempt to forcibly remount, call drive.mount(\"/content/gdrive\", force_remount=True).\n"
          ],
          "name": "stdout"
        }
      ]
    },
    {
      "cell_type": "code",
      "metadata": {
        "id": "hbuCiwkBEhXa",
        "colab_type": "code",
        "colab": {}
      },
      "source": [
        "import tensorflow as tf\n",
        "\n",
        "session_conf = tf.ConfigProto(\n",
        " intra_op_parallelism_threads=1, \n",
        "                        inter_op_parallelism_threads=1, \n",
        "                      )"
      ],
      "execution_count": 0,
      "outputs": []
    },
    {
      "cell_type": "code",
      "metadata": {
        "id": "oro3zl5ytJGu",
        "colab_type": "code",
        "colab": {}
      },
      "source": [
        "import pandas as pd\n",
        "import numpy as np\n",
        "from sklearn.model_selection import train_test_split"
      ],
      "execution_count": 0,
      "outputs": []
    },
    {
      "cell_type": "code",
      "metadata": {
        "id": "D2CLwML7th7O",
        "colab_type": "code",
        "colab": {}
      },
      "source": [
        "data=pd.read_csv('/content/gdrive/My Drive/donors/preprocessed_data.csv')\n",
        "label=pd.read_csv('/content/gdrive/My Drive/donors/preprocessed_data.csv')['project_is_approved']"
      ],
      "execution_count": 0,
      "outputs": []
    },
    {
      "cell_type": "code",
      "metadata": {
        "id": "qHiuGRdVE0Yy",
        "colab_type": "code",
        "colab": {}
      },
      "source": [
        "data=data.drop(['project_is_approved'],axis=1)"
      ],
      "execution_count": 0,
      "outputs": []
    },
    {
      "cell_type": "code",
      "metadata": {
        "id": "PisKCBxjtzvl",
        "colab_type": "code",
        "outputId": "d169633f-0925-4877-a7e9-4434142cae97",
        "colab": {
          "base_uri": "https://localhost:8080/",
          "height": 629
        }
      },
      "source": [
        "data.head()"
      ],
      "execution_count": 614,
      "outputs": [
        {
          "output_type": "execute_result",
          "data": {
            "text/html": [
              "<div>\n",
              "<style scoped>\n",
              "    .dataframe tbody tr th:only-of-type {\n",
              "        vertical-align: middle;\n",
              "    }\n",
              "\n",
              "    .dataframe tbody tr th {\n",
              "        vertical-align: top;\n",
              "    }\n",
              "\n",
              "    .dataframe thead th {\n",
              "        text-align: right;\n",
              "    }\n",
              "</style>\n",
              "<table border=\"1\" class=\"dataframe\">\n",
              "  <thead>\n",
              "    <tr style=\"text-align: right;\">\n",
              "      <th></th>\n",
              "      <th>school_state</th>\n",
              "      <th>teacher_prefix</th>\n",
              "      <th>project_grade_category</th>\n",
              "      <th>teacher_number_of_previously_posted_projects</th>\n",
              "      <th>clean_categories</th>\n",
              "      <th>clean_subcategories</th>\n",
              "      <th>essay</th>\n",
              "      <th>price</th>\n",
              "    </tr>\n",
              "  </thead>\n",
              "  <tbody>\n",
              "    <tr>\n",
              "      <th>0</th>\n",
              "      <td>ca</td>\n",
              "      <td>mrs</td>\n",
              "      <td>grades_prek_2</td>\n",
              "      <td>53</td>\n",
              "      <td>math_science</td>\n",
              "      <td>appliedsciences health_lifescience</td>\n",
              "      <td>i fortunate enough use fairy tale stem kits cl...</td>\n",
              "      <td>725.05</td>\n",
              "    </tr>\n",
              "    <tr>\n",
              "      <th>1</th>\n",
              "      <td>ut</td>\n",
              "      <td>ms</td>\n",
              "      <td>grades_3_5</td>\n",
              "      <td>4</td>\n",
              "      <td>specialneeds</td>\n",
              "      <td>specialneeds</td>\n",
              "      <td>imagine 8 9 years old you third grade classroo...</td>\n",
              "      <td>213.03</td>\n",
              "    </tr>\n",
              "    <tr>\n",
              "      <th>2</th>\n",
              "      <td>ca</td>\n",
              "      <td>mrs</td>\n",
              "      <td>grades_prek_2</td>\n",
              "      <td>10</td>\n",
              "      <td>literacy_language</td>\n",
              "      <td>literacy</td>\n",
              "      <td>having class 24 students comes diverse learner...</td>\n",
              "      <td>329.00</td>\n",
              "    </tr>\n",
              "    <tr>\n",
              "      <th>3</th>\n",
              "      <td>ga</td>\n",
              "      <td>mrs</td>\n",
              "      <td>grades_prek_2</td>\n",
              "      <td>2</td>\n",
              "      <td>appliedlearning</td>\n",
              "      <td>earlydevelopment</td>\n",
              "      <td>i recently read article giving students choice...</td>\n",
              "      <td>481.04</td>\n",
              "    </tr>\n",
              "    <tr>\n",
              "      <th>4</th>\n",
              "      <td>wa</td>\n",
              "      <td>mrs</td>\n",
              "      <td>grades_3_5</td>\n",
              "      <td>2</td>\n",
              "      <td>literacy_language</td>\n",
              "      <td>literacy</td>\n",
              "      <td>my students crave challenge eat obstacles brea...</td>\n",
              "      <td>17.74</td>\n",
              "    </tr>\n",
              "  </tbody>\n",
              "</table>\n",
              "</div>"
            ],
            "text/plain": [
              "  school_state  ...   price\n",
              "0           ca  ...  725.05\n",
              "1           ut  ...  213.03\n",
              "2           ca  ...  329.00\n",
              "3           ga  ...  481.04\n",
              "4           wa  ...   17.74\n",
              "\n",
              "[5 rows x 8 columns]"
            ]
          },
          "metadata": {
            "tags": []
          },
          "execution_count": 614
        }
      ]
    },
    {
      "cell_type": "code",
      "metadata": {
        "id": "OhlrbIN2Uo_z",
        "colab_type": "code",
        "colab": {}
      },
      "source": [
        "train_x,test_x,y_train,y_test = train_test_split(data,label,test_size=0.33, random_state=42)\n",
        "train_x_cv,test_x_cv,y_train_cv,y_test_cv = train_test_split(train_x,y_train,test_size=0.2, random_state=42)"
      ],
      "execution_count": 0,
      "outputs": []
    },
    {
      "cell_type": "code",
      "metadata": {
        "id": "N-IlIm5KNGhM",
        "colab_type": "code",
        "outputId": "1bb6d190-59ad-4e06-c4ab-e5e9cd23c052",
        "colab": {
          "base_uri": "https://localhost:8080/",
          "height": 68
        }
      },
      "source": [
        "print(train_x_cv.shape)\n",
        "print(test_x.shape)\n",
        "print(test_x_cv.shape)"
      ],
      "execution_count": 616,
      "outputs": [
        {
          "output_type": "stream",
          "text": [
            "(58556, 8)\n",
            "(36052, 8)\n",
            "(14640, 8)\n"
          ],
          "name": "stdout"
        }
      ]
    },
    {
      "cell_type": "code",
      "metadata": {
        "id": "EHq-nO8wNigJ",
        "colab_type": "code",
        "colab": {}
      },
      "source": [
        "from keras.preprocessing.text import Tokenizer\n",
        "def tokenizer(column):\n",
        "  t = Tokenizer(split=' ',filters='!\"#$%&()*+,-./:;<=>?@[\\\\]^`{|}~\\t\\n')\n",
        "  t.fit_on_texts(column)\n",
        "  encoded_docs = t.texts_to_sequences(column)\n",
        "  \n",
        "  return (t,encoded_docs)\n",
        "\n",
        "  \n",
        "  "
      ],
      "execution_count": 0,
      "outputs": []
    },
    {
      "cell_type": "markdown",
      "metadata": {
        "id": "ixM9Ie3TNnV6",
        "colab_type": "text"
      },
      "source": [
        "**EMBEDDING SCHOOL STATE**"
      ]
    },
    {
      "cell_type": "code",
      "metadata": {
        "id": "i_fXJSAKNqjG",
        "colab_type": "code",
        "colab": {}
      },
      "source": [
        "encodings_state=tokenizer(train_x_cv.school_state)\n",
        "encodings_state_test_cv=encodings_state[0].texts_to_sequences(test_x_cv.school_state)\n",
        "encodings_state_test=encodings_state[0].texts_to_sequences(test_x.school_state)"
      ],
      "execution_count": 0,
      "outputs": []
    },
    {
      "cell_type": "code",
      "metadata": {
        "id": "bB9CMkpHOnZ2",
        "colab_type": "code",
        "outputId": "324e014e-40a2-462f-a4e3-86aa5469500d",
        "colab": {
          "base_uri": "https://localhost:8080/",
          "height": 54
        }
      },
      "source": [
        "print((encodings_state[0].word_index))"
      ],
      "execution_count": 619,
      "outputs": [
        {
          "output_type": "stream",
          "text": [
            "{'ca': 1, 'tx': 2, 'ny': 3, 'fl': 4, 'nc': 5, 'il': 6, 'ga': 7, 'sc': 8, 'mi': 9, 'pa': 10, 'mo': 11, 'in': 12, 'oh': 13, 'wa': 14, 'la': 15, 'ma': 16, 'ok': 17, 'nj': 18, 'az': 19, 'va': 20, 'wi': 21, 'al': 22, 'ut': 23, 'tn': 24, 'ct': 25, 'md': 26, 'nv': 27, 'ms': 28, 'ky': 29, 'or': 30, 'mn': 31, 'co': 32, 'ar': 33, 'id': 34, 'ia': 35, 'ks': 36, 'nm': 37, 'dc': 38, 'wv': 39, 'hi': 40, 'me': 41, 'ak': 42, 'nh': 43, 'ne': 44, 'sd': 45, 'de': 46, 'ri': 47, 'mt': 48, 'nd': 49, 'wy': 50, 'vt': 51}\n"
          ],
          "name": "stdout"
        }
      ]
    },
    {
      "cell_type": "code",
      "metadata": {
        "id": "PzUZz7f3REeQ",
        "colab_type": "code",
        "outputId": "8f468641-05a7-44af-cde7-ab0930928e12",
        "colab": {
          "base_uri": "https://localhost:8080/",
          "height": 34
        }
      },
      "source": [
        "encodings_state[1][:5]"
      ],
      "execution_count": 620,
      "outputs": [
        {
          "output_type": "execute_result",
          "data": {
            "text/plain": [
              "[[5], [11], [3], [1], [1]]"
            ]
          },
          "metadata": {
            "tags": []
          },
          "execution_count": 620
        }
      ]
    },
    {
      "cell_type": "code",
      "metadata": {
        "id": "ID7Kk5LAQ8OA",
        "colab_type": "code",
        "colab": {}
      },
      "source": [
        "\n",
        "vocab_size = len(encodings_state[0].word_index)+1\n"
      ],
      "execution_count": 0,
      "outputs": []
    },
    {
      "cell_type": "code",
      "metadata": {
        "id": "qPHwi3WUX_lb",
        "colab_type": "code",
        "colab": {}
      },
      "source": [
        "from keras.layers import Embedding, Flatten,Input,LSTM,Dense,Dropout\n",
        "from keras.models import Sequential\n",
        "from keras.layers import Dense\n",
        "import keras"
      ],
      "execution_count": 0,
      "outputs": []
    },
    {
      "cell_type": "code",
      "metadata": {
        "id": "U53VYTgglcrM",
        "colab_type": "code",
        "colab": {}
      },
      "source": [
        "input_state=Input(shape=(1,),name=\"school_state\")\n",
        "embedding_state=Embedding(input_dim=vocab_size,output_dim=6,input_length=(1,))(input_state)\n",
        "flatten_state=Flatten()(embedding_state)"
      ],
      "execution_count": 0,
      "outputs": []
    },
    {
      "cell_type": "markdown",
      "metadata": {
        "id": "Esyl1UXfQRxd",
        "colab_type": "text"
      },
      "source": [
        "**EMBEDDING TEACHER PREFIX**"
      ]
    },
    {
      "cell_type": "code",
      "metadata": {
        "id": "S_v4l0IUQFsf",
        "colab_type": "code",
        "outputId": "9f396052-fe68-4c7c-c0a3-961fa104b69c",
        "colab": {
          "base_uri": "https://localhost:8080/",
          "height": 68
        }
      },
      "source": [
        "encodings_prefix=tokenizer(train_x_cv.teacher_prefix)\n",
        "encodings_prefix_test_cv=encodings_prefix[0].texts_to_sequences(test_x_cv.teacher_prefix)\n",
        "encodings_prefix_test=encodings_prefix[0].texts_to_sequences(test_x.teacher_prefix)\n",
        "print(encodings_prefix[1][:5])\n",
        "print(print((encodings_prefix[0].word_index)))\n",
        "vocab_size = len(encodings_state[0].word_index)+1\n",
        "\n",
        "\n"
      ],
      "execution_count": 624,
      "outputs": [
        {
          "output_type": "stream",
          "text": [
            "[[3], [2], [1], [2], [3]]\n",
            "{'mrs': 1, 'ms': 2, 'mr': 3, 'teacher': 4, 'dr': 5}\n",
            "None\n"
          ],
          "name": "stdout"
        }
      ]
    },
    {
      "cell_type": "code",
      "metadata": {
        "id": "CFni4ya1RI18",
        "colab_type": "code",
        "colab": {}
      },
      "source": [
        "input_prefix=Input(shape=(1,),name=\"teacher_prefix\")\n",
        "embedding_prefix=Embedding(input_dim=vocab_size,output_dim=6,input_length=(1,))(input_prefix)\n",
        "flatten_prefix=Flatten()(embedding_prefix)"
      ],
      "execution_count": 0,
      "outputs": []
    },
    {
      "cell_type": "markdown",
      "metadata": {
        "id": "nEH9rctJRnuh",
        "colab_type": "text"
      },
      "source": [
        "**EMBEDDING PROJECT_GRADE_CATEGORY**"
      ]
    },
    {
      "cell_type": "code",
      "metadata": {
        "id": "dskVfGuPRkrN",
        "colab_type": "code",
        "outputId": "5fc0d0c8-ab2a-40e9-b3a6-97329f42ae2c",
        "colab": {
          "base_uri": "https://localhost:8080/",
          "height": 68
        }
      },
      "source": [
        "encodings_grade=tokenizer(train_x_cv.project_grade_category.values)\n",
        "encodings_grade_test_cv=encodings_grade[0].texts_to_sequences(test_x_cv.project_grade_category.values)\n",
        "encodings_grade_test=encodings_grade[0].texts_to_sequences(test_x.project_grade_category.values)\n",
        "\n",
        "print(encodings_grade[1][:5])\n",
        "print(print((encodings_grade[0].word_index)))\n",
        "vocab_size = len(encodings_grade[0].word_index)+1"
      ],
      "execution_count": 626,
      "outputs": [
        {
          "output_type": "stream",
          "text": [
            "[[2], [1], [1], [3], [3]]\n",
            "{'grades_prek_2': 1, 'grades_3_5': 2, 'grades_6_8': 3, 'grades_9_12': 4}\n",
            "None\n"
          ],
          "name": "stdout"
        }
      ]
    },
    {
      "cell_type": "code",
      "metadata": {
        "id": "VutIufJvRzm-",
        "colab_type": "code",
        "colab": {}
      },
      "source": [
        "input_grade=Input(shape=(1,),name=\"project_grade_category\")\n",
        "embedding_grade=Embedding(input_dim=vocab_size,output_dim=6,input_length=(1,))(input_grade)\n",
        "flatten_grade=Flatten()(embedding_grade)"
      ],
      "execution_count": 0,
      "outputs": []
    },
    {
      "cell_type": "markdown",
      "metadata": {
        "id": "qUsXxp9nS25u",
        "colab_type": "text"
      },
      "source": [
        "**EMNEDDING CLEAN_CATEGORIES**"
      ]
    },
    {
      "cell_type": "markdown",
      "metadata": {
        "id": "OkbjcPBOSyW3",
        "colab_type": "text"
      },
      "source": [
        ""
      ]
    },
    {
      "cell_type": "code",
      "metadata": {
        "id": "prlzos_5Eg_Z",
        "colab_type": "code",
        "colab": {}
      },
      "source": [
        "from keras.preprocessing.sequence import pad_sequences"
      ],
      "execution_count": 0,
      "outputs": []
    },
    {
      "cell_type": "code",
      "metadata": {
        "id": "gC0TcDJ9Stvs",
        "colab_type": "code",
        "colab": {}
      },
      "source": [
        "encodings_categories=tokenizer(train_x_cv.clean_categories)\n",
        "encodings_categories_test_cv=encodings_categories[0].texts_to_sequences(test_x_cv.clean_categories)\n",
        "encodings_categories_test=encodings_categories[0].texts_to_sequences(test_x.clean_categories)\n",
        "vocab_size = len(encodings_categories[0].word_index)+1"
      ],
      "execution_count": 0,
      "outputs": []
    },
    {
      "cell_type": "code",
      "metadata": {
        "id": "HTxLmnsoFd8y",
        "colab_type": "code",
        "outputId": "f4679bc2-b8f1-45b7-c661-780092cb4507",
        "colab": {
          "base_uri": "https://localhost:8080/",
          "height": 136
        }
      },
      "source": [
        "max_length = 3\n",
        "padded_docs_categories = pad_sequences(encodings_categories[1], maxlen=max_length, padding='post')\n",
        "print(padded_docs_categories)"
      ],
      "execution_count": 630,
      "outputs": [
        {
          "output_type": "stream",
          "text": [
            "[[1 0 0]\n",
            " [1 0 0]\n",
            " [5 1 0]\n",
            " ...\n",
            " [1 2 0]\n",
            " [6 0 0]\n",
            " [2 5 0]]\n"
          ],
          "name": "stdout"
        }
      ]
    },
    {
      "cell_type": "code",
      "metadata": {
        "id": "ALV_XY8CsWRT",
        "colab_type": "code",
        "outputId": "cc8ff972-f5e5-46cd-8909-38557fdc7b9a",
        "colab": {
          "base_uri": "https://localhost:8080/",
          "height": 136
        }
      },
      "source": [
        "max_length = 3\n",
        "padded_docs_categories_test = pad_sequences(encodings_categories_test, maxlen=max_length, padding='post')\n",
        "print(padded_docs_categories_test)"
      ],
      "execution_count": 631,
      "outputs": [
        {
          "output_type": "stream",
          "text": [
            "[[5 0 0]\n",
            " [2 0 0]\n",
            " [1 0 0]\n",
            " ...\n",
            " [7 0 0]\n",
            " [2 4 0]\n",
            " [3 0 0]]\n"
          ],
          "name": "stdout"
        }
      ]
    },
    {
      "cell_type": "code",
      "metadata": {
        "id": "EUQw4r9GCRn2",
        "colab_type": "code",
        "colab": {
          "base_uri": "https://localhost:8080/",
          "height": 136
        },
        "outputId": "3992deb4-6b82-4e3f-9c3a-9593b21f62a6"
      },
      "source": [
        "max_length = 3\n",
        "padded_docs_categories_test_cv = pad_sequences(encodings_categories_test_cv, maxlen=max_length, padding='post')\n",
        "print(padded_docs_categories_test_cv)"
      ],
      "execution_count": 632,
      "outputs": [
        {
          "output_type": "stream",
          "text": [
            "[[1 0 0]\n",
            " [3 0 0]\n",
            " [4 0 0]\n",
            " ...\n",
            " [3 0 0]\n",
            " [1 2 0]\n",
            " [1 2 0]]\n"
          ],
          "name": "stdout"
        }
      ]
    },
    {
      "cell_type": "code",
      "metadata": {
        "id": "pc-nu_rXTAlW",
        "colab_type": "code",
        "colab": {}
      },
      "source": [
        "input_categories=Input(shape=(3,),name=\"clean_categories\")\n",
        "embedding_categories=Embedding(input_dim=vocab_size,output_dim=16,input_length=(3,))(input_categories)\n",
        "flatten_categories=Flatten()(embedding_categories)"
      ],
      "execution_count": 0,
      "outputs": []
    },
    {
      "cell_type": "markdown",
      "metadata": {
        "id": "rao7PMwX4tTQ",
        "colab_type": "text"
      },
      "source": [
        "**EMBEDDING CLEAN_SUBCATEGORIES**"
      ]
    },
    {
      "cell_type": "code",
      "metadata": {
        "id": "0Xadc2xJ4oO9",
        "colab_type": "code",
        "colab": {}
      },
      "source": [
        "encodings_subcategories=tokenizer(train_x_cv.clean_subcategories)\n",
        "encodings_subcategories_test_cv=encodings_state[0].texts_to_sequences(test_x_cv.clean_subcategories)\n",
        "encodings_subcategories_test=encodings_state[0].texts_to_sequences(test_x.clean_subcategories)\n",
        "vocab_size = len(encodings_subcategories[0].word_index)+1"
      ],
      "execution_count": 0,
      "outputs": []
    },
    {
      "cell_type": "code",
      "metadata": {
        "id": "uHipJJQ-IvJ2",
        "colab_type": "code",
        "outputId": "8d63ecde-bd4d-43ee-e897-0abe177a8b48",
        "colab": {
          "base_uri": "https://localhost:8080/",
          "height": 136
        }
      },
      "source": [
        "max_length = 4\n",
        "padded_docs_subcategories = pad_sequences(encodings_subcategories[1], maxlen=max_length, padding='post')\n",
        "print(padded_docs_subcategories)"
      ],
      "execution_count": 635,
      "outputs": [
        {
          "output_type": "stream",
          "text": [
            "[[ 1  0  0  0]\n",
            " [ 1  0  0  0]\n",
            " [11  1  0  0]\n",
            " ...\n",
            " [ 1  2  0  0]\n",
            " [ 7  0  0  0]\n",
            " [ 5 15  0  0]]\n"
          ],
          "name": "stdout"
        }
      ]
    },
    {
      "cell_type": "code",
      "metadata": {
        "id": "qtMkTKn7spEM",
        "colab_type": "code",
        "colab": {}
      },
      "source": [
        "max_length = 4\n",
        "padded_docs_subcategories_test = pad_sequences(encodings_subcategories_test, maxlen=max_length, padding='post')\n"
      ],
      "execution_count": 0,
      "outputs": []
    },
    {
      "cell_type": "code",
      "metadata": {
        "id": "CF6H7z-jDNQk",
        "colab_type": "code",
        "colab": {}
      },
      "source": [
        "max_length = 4\n",
        "padded_docs_subcategories_test_cv = pad_sequences(encodings_subcategories_test_cv, maxlen=max_length, padding='post')"
      ],
      "execution_count": 0,
      "outputs": []
    },
    {
      "cell_type": "code",
      "metadata": {
        "id": "5cf2N6f243zk",
        "colab_type": "code",
        "colab": {}
      },
      "source": [
        "input_subcategories=Input(shape=(4,),name=\"clean_subcategories\")\n",
        "embedding_subcategories=Embedding(input_dim=vocab_size,output_dim=16,input_length=(4,))(input_subcategories)\n",
        "flatten_subcategories=Flatten()(embedding_subcategories)"
      ],
      "execution_count": 0,
      "outputs": []
    },
    {
      "cell_type": "markdown",
      "metadata": {
        "id": "vUs4oPSB6dcA",
        "colab_type": "text"
      },
      "source": [
        "**EMBEDDING ESSAY'S USING GLOVE MODEL**"
      ]
    },
    {
      "cell_type": "code",
      "metadata": {
        "id": "LQLcNTA75qwV",
        "colab_type": "code",
        "colab": {}
      },
      "source": [
        "encodings_essay=tokenizer(train_x_cv.essay)\n",
        "encodings_essay_test_cv=encodings_essay[0].texts_to_sequences(test_x_cv.essay)\n",
        "encodings_essay_test=encodings_essay[0].texts_to_sequences(test_x.essay)\n",
        "\n",
        "vocab_size = len(encodings_essay[0].word_index)+1"
      ],
      "execution_count": 0,
      "outputs": []
    },
    {
      "cell_type": "code",
      "metadata": {
        "id": "f9ZX6gMNr7uL",
        "colab_type": "code",
        "outputId": "0dcee37b-7c64-4cb0-98fa-b0b951bcb165",
        "colab": {
          "base_uri": "https://localhost:8080/",
          "height": 34
        }
      },
      "source": [
        "vocab_size"
      ],
      "execution_count": 640,
      "outputs": [
        {
          "output_type": "execute_result",
          "data": {
            "text/plain": [
              "44181"
            ]
          },
          "metadata": {
            "tags": []
          },
          "execution_count": 640
        }
      ]
    },
    {
      "cell_type": "markdown",
      "metadata": {
        "id": "pLF2J9LGnQ43",
        "colab_type": "text"
      },
      "source": [
        "SOME PADDING DETAILS "
      ]
    },
    {
      "cell_type": "code",
      "metadata": {
        "id": "_A4OYsfv6cU0",
        "colab_type": "code",
        "outputId": "f82d5c9e-f1a9-4a27-e0a7-3b7adaf2b34d",
        "colab": {
          "base_uri": "https://localhost:8080/",
          "height": 34
        }
      },
      "source": [
        "data.essay.str.split().apply(len).max()"
      ],
      "execution_count": 641,
      "outputs": [
        {
          "output_type": "execute_result",
          "data": {
            "text/plain": [
              "339"
            ]
          },
          "metadata": {
            "tags": []
          },
          "execution_count": 641
        }
      ]
    },
    {
      "cell_type": "code",
      "metadata": {
        "id": "9xn-g5ZcnOJO",
        "colab_type": "code",
        "colab": {}
      },
      "source": [
        "max_length =200\n",
        "padded_docs_essay = pad_sequences(encodings_essay[1], maxlen=max_length, padding='post')"
      ],
      "execution_count": 0,
      "outputs": []
    },
    {
      "cell_type": "code",
      "metadata": {
        "id": "LwsacRdHs1fm",
        "colab_type": "code",
        "colab": {}
      },
      "source": [
        "max_length =200\n",
        "padded_docs_essay_test_cv = pad_sequences(encodings_essay_test_cv, maxlen=max_length, padding='post')"
      ],
      "execution_count": 0,
      "outputs": []
    },
    {
      "cell_type": "code",
      "metadata": {
        "id": "HCUnsWpRGXlp",
        "colab_type": "code",
        "colab": {}
      },
      "source": [
        "max_length =200\n",
        "padded_docs_essay_test = pad_sequences(encodings_essay_test, maxlen=max_length, padding='post')"
      ],
      "execution_count": 0,
      "outputs": []
    },
    {
      "cell_type": "code",
      "metadata": {
        "id": "lTuJqv62rOP8",
        "colab_type": "code",
        "colab": {}
      },
      "source": [
        "import joblib"
      ],
      "execution_count": 0,
      "outputs": []
    },
    {
      "cell_type": "code",
      "metadata": {
        "id": "92W9Y3fApvZq",
        "colab_type": "code",
        "colab": {}
      },
      "source": [
        "glove=joblib.load('/content/gdrive/My Drive/donors/glove_vectors')\n",
        "   "
      ],
      "execution_count": 0,
      "outputs": []
    },
    {
      "cell_type": "code",
      "metadata": {
        "id": "9dUS43Bzo-Xu",
        "colab_type": "code",
        "colab": {}
      },
      "source": [
        "embedding_matrix = np.zeros((vocab_size\n",
        "                             , 300))\n",
        "for word, i in encodings_essay[0].word_index.items():\n",
        "    embedding_vector = glove.get(word)\n",
        "    if embedding_vector is not None:\n",
        "      embedding_matrix[i] = embedding_vector"
      ],
      "execution_count": 0,
      "outputs": []
    },
    {
      "cell_type": "code",
      "metadata": {
        "id": "-LIUetZ9sj02",
        "colab_type": "code",
        "colab": {}
      },
      "source": [
        "embedding_layer_essay = Embedding(input_dim=embedding_matrix.shape[0],\n",
        "                            output_dim=embedding_matrix.shape[1], \n",
        "                            input_length=200,\n",
        "                            weights=[embedding_matrix], \n",
        "                            trainable=False, \n",
        "                            name='embedding_layer_essay')"
      ],
      "execution_count": 0,
      "outputs": []
    },
    {
      "cell_type": "code",
      "metadata": {
        "id": "ICQre8jyvyIY",
        "colab_type": "code",
        "colab": {}
      },
      "source": [
        "input_essay = Input(shape=(200,), dtype='int32', name='essay')\n",
        "x = embedding_layer_essay(input_essay)\n",
        "flatten_essay = Flatten()(x)\n",
        "extract = LSTM(128, return_sequences=True)(x)\n",
        "flat_lstm = Flatten()(extract)"
      ],
      "execution_count": 0,
      "outputs": []
    },
    {
      "cell_type": "markdown",
      "metadata": {
        "id": "-43Io0bm1qgm",
        "colab_type": "text"
      },
      "source": [
        "REMAINING NUMERCAL COLUMNS"
      ]
    },
    {
      "cell_type": "code",
      "metadata": {
        "id": "7muy2Cyp1JfY",
        "colab_type": "code",
        "colab": {}
      },
      "source": [
        "stacked_numbers=np.vstack((train_x_cv.teacher_number_of_previously_posted_projects,train_x_cv.price)).T\n",
        "stacked_number_test_cv=np.vstack((test_x_cv.teacher_number_of_previously_posted_projects,test_x_cv.price)).T\n",
        "stacked_number_test=np.vstack((test_x.teacher_number_of_previously_posted_projects,test_x.price)).T"
      ],
      "execution_count": 0,
      "outputs": []
    },
    {
      "cell_type": "code",
      "metadata": {
        "id": "ZdSIjlgB2NMA",
        "colab_type": "code",
        "outputId": "0d1d8f7b-8158-4f6e-b06f-1c211dc78417",
        "colab": {
          "base_uri": "https://localhost:8080/",
          "height": 34
        }
      },
      "source": [
        "stacked_numbers.shape"
      ],
      "execution_count": 651,
      "outputs": [
        {
          "output_type": "execute_result",
          "data": {
            "text/plain": [
              "(58556, 2)"
            ]
          },
          "metadata": {
            "tags": []
          },
          "execution_count": 651
        }
      ]
    },
    {
      "cell_type": "code",
      "metadata": {
        "id": "RJkCxVS32PAW",
        "colab_type": "code",
        "colab": {}
      },
      "source": [
        "input_numericals= Input(shape=(2,),name='numericals')\n",
        "d0=Dense(64,activation='relu',kernel_initializer='glorot_uniform')(input_numericals)"
      ],
      "execution_count": 0,
      "outputs": []
    },
    {
      "cell_type": "markdown",
      "metadata": {
        "id": "Amby6Ng-N9nA",
        "colab_type": "text"
      },
      "source": [
        "**CREATING CROSS VALIDATION DATA**"
      ]
    },
    {
      "cell_type": "code",
      "metadata": {
        "id": "Goak_InpNxCK",
        "colab_type": "code",
        "colab": {}
      },
      "source": [
        "cv_data=[encodings_state_test_cv,encodings_prefix_test_cv,encodings_grade_test_cv,padded_docs_categories_test_cv,padded_docs_subcategories_test_cv,padded_docs_essay_test_cv,stacked_number_test_cv]"
      ],
      "execution_count": 0,
      "outputs": []
    },
    {
      "cell_type": "markdown",
      "metadata": {
        "id": "W52qpBUG3Ocb",
        "colab_type": "text"
      },
      "source": [
        "**MODEL BUILDING**"
      ]
    },
    {
      "cell_type": "code",
      "metadata": {
        "id": "X0zPOMaU-W7m",
        "colab_type": "code",
        "colab": {}
      },
      "source": [
        "import tensorflow as tf\n",
        "from sklearn.metrics import roc_auc_score\n",
        "\n",
        "def auroc(y_true, y_pred):\n",
        "    return tf.py_func(roc_auc_score, (y_true, y_pred), tf.double)\n"
      ],
      "execution_count": 0,
      "outputs": []
    },
    {
      "cell_type": "code",
      "metadata": {
        "id": "cb7IhRpG3FMh",
        "colab_type": "code",
        "colab": {}
      },
      "source": [
        "from keras.layers.merge import concatenate\n",
        "merge_data = concatenate([flatten_state, flatten_prefix,flatten_grade,flatten_categories,flatten_subcategories,flat_lstm,d0])"
      ],
      "execution_count": 0,
      "outputs": []
    },
    {
      "cell_type": "code",
      "metadata": {
        "id": "_zt9V7Bp3rnP",
        "colab_type": "code",
        "outputId": "7f727373-9fdf-4fdf-e8f8-efb5cb628290",
        "colab": {
          "base_uri": "https://localhost:8080/",
          "height": 1000
        }
      },
      "source": [
        "from keras.models import Model\n",
        "from keras.utils import plot_model\n",
        "\n",
        "d1=Dense(126, activation='relu',kernel_initializer='glorot_uniform')(merge_data)\n",
        "dropout_1=Dropout(0.5)(d1)\n",
        "d2=Dense(32,activation='relu',kernel_initializer='glorot_uniform')(dropout_1)\n",
        "dropout_2=Dropout(0.5)(d2)\n",
        "d3=d2=Dense(126,activation='relu',kernel_initializer='glorot_uniform')(dropout_2)\n",
        "output=Dense(1, activation='sigmoid')(d3)\n",
        "\n",
        "model = Model(inputs=[input_state,input_prefix,input_grade,input_categories,input_subcategories,input_essay,input_numericals], outputs=output)\n",
        "# summarize layers\n",
        "print(model.summary())\n",
        "# plot graph\n",
        "plot_model(model, to_file='multiple_inputs.png')\n",
        "\n",
        "\n",
        "\n"
      ],
      "execution_count": 656,
      "outputs": [
        {
          "output_type": "stream",
          "text": [
            "__________________________________________________________________________________________________\n",
            "Layer (type)                    Output Shape         Param #     Connected to                     \n",
            "==================================================================================================\n",
            "essay (InputLayer)              (None, 200)          0                                            \n",
            "__________________________________________________________________________________________________\n",
            "school_state (InputLayer)       (None, 1)            0                                            \n",
            "__________________________________________________________________________________________________\n",
            "teacher_prefix (InputLayer)     (None, 1)            0                                            \n",
            "__________________________________________________________________________________________________\n",
            "project_grade_category (InputLa (None, 1)            0                                            \n",
            "__________________________________________________________________________________________________\n",
            "clean_categories (InputLayer)   (None, 3)            0                                            \n",
            "__________________________________________________________________________________________________\n",
            "clean_subcategories (InputLayer (None, 4)            0                                            \n",
            "__________________________________________________________________________________________________\n",
            "embedding_layer_essay (Embeddin (None, 200, 300)     13254300    essay[0][0]                      \n",
            "__________________________________________________________________________________________________\n",
            "embedding_16 (Embedding)        (None, 1, 6)         312         school_state[0][0]               \n",
            "__________________________________________________________________________________________________\n",
            "embedding_17 (Embedding)        (None, 1, 6)         312         teacher_prefix[0][0]             \n",
            "__________________________________________________________________________________________________\n",
            "embedding_18 (Embedding)        (None, 1, 6)         30          project_grade_category[0][0]     \n",
            "__________________________________________________________________________________________________\n",
            "embedding_19 (Embedding)        (None, 3, 16)        160         clean_categories[0][0]           \n",
            "__________________________________________________________________________________________________\n",
            "embedding_20 (Embedding)        (None, 4, 16)        496         clean_subcategories[0][0]        \n",
            "__________________________________________________________________________________________________\n",
            "lstm_4 (LSTM)                   (None, 200, 128)     219648      embedding_layer_essay[0][0]      \n",
            "__________________________________________________________________________________________________\n",
            "numericals (InputLayer)         (None, 2)            0                                            \n",
            "__________________________________________________________________________________________________\n",
            "flatten_26 (Flatten)            (None, 6)            0           embedding_16[0][0]               \n",
            "__________________________________________________________________________________________________\n",
            "flatten_27 (Flatten)            (None, 6)            0           embedding_17[0][0]               \n",
            "__________________________________________________________________________________________________\n",
            "flatten_28 (Flatten)            (None, 6)            0           embedding_18[0][0]               \n",
            "__________________________________________________________________________________________________\n",
            "flatten_29 (Flatten)            (None, 48)           0           embedding_19[0][0]               \n",
            "__________________________________________________________________________________________________\n",
            "flatten_30 (Flatten)            (None, 64)           0           embedding_20[0][0]               \n",
            "__________________________________________________________________________________________________\n",
            "flatten_32 (Flatten)            (None, 25600)        0           lstm_4[0][0]                     \n",
            "__________________________________________________________________________________________________\n",
            "dense_28 (Dense)                (None, 64)           192         numericals[0][0]                 \n",
            "__________________________________________________________________________________________________\n",
            "concatenate_7 (Concatenate)     (None, 25794)        0           flatten_26[0][0]                 \n",
            "                                                                 flatten_27[0][0]                 \n",
            "                                                                 flatten_28[0][0]                 \n",
            "                                                                 flatten_29[0][0]                 \n",
            "                                                                 flatten_30[0][0]                 \n",
            "                                                                 flatten_32[0][0]                 \n",
            "                                                                 dense_28[0][0]                   \n",
            "__________________________________________________________________________________________________\n",
            "dense_29 (Dense)                (None, 126)          3250170     concatenate_7[0][0]              \n",
            "__________________________________________________________________________________________________\n",
            "dropout_13 (Dropout)            (None, 126)          0           dense_29[0][0]                   \n",
            "__________________________________________________________________________________________________\n",
            "dense_30 (Dense)                (None, 32)           4064        dropout_13[0][0]                 \n",
            "__________________________________________________________________________________________________\n",
            "dropout_14 (Dropout)            (None, 32)           0           dense_30[0][0]                   \n",
            "__________________________________________________________________________________________________\n",
            "dense_31 (Dense)                (None, 126)          4158        dropout_14[0][0]                 \n",
            "__________________________________________________________________________________________________\n",
            "dense_32 (Dense)                (None, 1)            127         dense_31[0][0]                   \n",
            "==================================================================================================\n",
            "Total params: 16,733,969\n",
            "Trainable params: 3,479,669\n",
            "Non-trainable params: 13,254,300\n",
            "__________________________________________________________________________________________________\n",
            "None\n"
          ],
          "name": "stdout"
        }
      ]
    },
    {
      "cell_type": "code",
      "metadata": {
        "id": "hFzKbLqvOeLn",
        "colab_type": "code",
        "colab": {}
      },
      "source": [
        "from keras.optimizers import Adam\n",
        "from keras.callbacks import TensorBoard\n",
        "from time import time\n",
        "from keras.callbacks import ModelCheckpoint\n",
        "\n",
        "tensorboard = TensorBoard(log_dir='logs/{}'.format(time()))\n",
        "filepath=\"weights.best.hdf5\"\n",
        "checkpoint = ModelCheckpoint(filepath, monitor='val_auroc', verbose=0, save_best_only=True, mode='max')"
      ],
      "execution_count": 0,
      "outputs": []
    },
    {
      "cell_type": "code",
      "metadata": {
        "id": "fj3bUjLp-_JE",
        "colab_type": "code",
        "outputId": "d3c5723c-136d-494e-cedd-f1fc1650313c",
        "colab": {
          "base_uri": "https://localhost:8080/",
          "height": 411
        }
      },
      "source": [
        "model.compile(loss='binary_crossentropy', optimizer='adam', metrics=['accuracy',auroc])\n",
        "model.fit([encodings_state[1],encodings_prefix[1],encodings_grade[1],padded_docs_categories,padded_docs_subcategories,padded_docs_essay,stacked_numbers], [y_train_cv],\n",
        "          epochs=10, batch_size=256,callbacks=[tensorboard,checkpoint],validation_data=(cv_data, y_test_cv))"
      ],
      "execution_count": 119,
      "outputs": [
        {
          "output_type": "stream",
          "text": [
            "Train on 58556 samples, validate on 14640 samples\n",
            "Epoch 1/10\n",
            "58556/58556 [==============================] - 75s 1ms/step - loss: 0.4378 - acc: 0.8421 - auroc: 0.6413 - val_loss: 0.4373 - val_acc: 0.8522 - val_auroc: 0.6550\n",
            "Epoch 2/10\n",
            "58556/58556 [==============================] - 74s 1ms/step - loss: 0.3968 - acc: 0.8471 - auroc: 0.7141 - val_loss: 0.4490 - val_acc: 0.8522 - val_auroc: 0.7294\n",
            "Epoch 3/10\n",
            "58556/58556 [==============================] - 73s 1ms/step - loss: 0.3821 - acc: 0.8471 - auroc: 0.7451 - val_loss: 0.4003 - val_acc: 0.8522 - val_auroc: 0.7242\n",
            "Epoch 4/10\n",
            "58556/58556 [==============================] - 74s 1ms/step - loss: 0.3745 - acc: 0.8471 - auroc: 0.7596 - val_loss: 0.4019 - val_acc: 0.8522 - val_auroc: 0.7577\n",
            "Epoch 5/10\n",
            "58556/58556 [==============================] - 73s 1ms/step - loss: 0.3631 - acc: 0.8471 - auroc: 0.7793 - val_loss: 0.4109 - val_acc: 0.8522 - val_auroc: 0.7477\n",
            "Epoch 6/10\n",
            "58556/58556 [==============================] - 72s 1ms/step - loss: 0.3535 - acc: 0.8471 - auroc: 0.7959 - val_loss: 0.4007 - val_acc: 0.8522 - val_auroc: 0.7574\n",
            "Epoch 7/10\n",
            "58556/58556 [==============================] - 72s 1ms/step - loss: 0.3373 - acc: 0.8473 - auroc: 0.8214 - val_loss: 0.3907 - val_acc: 0.8522 - val_auroc: 0.7548\n",
            "Epoch 8/10\n",
            "58556/58556 [==============================] - 71s 1ms/step - loss: 0.3168 - acc: 0.8482 - auroc: 0.8488 - val_loss: 0.4043 - val_acc: 0.8513 - val_auroc: 0.7492\n",
            "Epoch 9/10\n",
            "58556/58556 [==============================] - 71s 1ms/step - loss: 0.2914 - acc: 0.8746 - auroc: 0.8795 - val_loss: 0.3791 - val_acc: 0.8462 - val_auroc: 0.7366\n",
            "Epoch 10/10\n",
            "58556/58556 [==============================] - 71s 1ms/step - loss: 0.2557 - acc: 0.8897 - auroc: 0.9133 - val_loss: 0.3875 - val_acc: 0.8383 - val_auroc: 0.7381\n"
          ],
          "name": "stdout"
        },
        {
          "output_type": "execute_result",
          "data": {
            "text/plain": [
              "<keras.callbacks.History at 0x7fe49ae283c8>"
            ]
          },
          "metadata": {
            "tags": []
          },
          "execution_count": 119
        }
      ]
    },
    {
      "cell_type": "code",
      "metadata": {
        "id": "yA5LaBLB-qN9",
        "colab_type": "code",
        "colab": {}
      },
      "source": [
        "model.load_weights(\"weights.best.hdf5\")"
      ],
      "execution_count": 0,
      "outputs": []
    },
    {
      "cell_type": "code",
      "metadata": {
        "id": "REObm2bYCwl-",
        "colab_type": "code",
        "outputId": "8bbb7d68-93b4-442a-f775-47db609ecd1d",
        "colab": {
          "base_uri": "https://localhost:8080/",
          "height": 34
        }
      },
      "source": [
        "score = model.evaluate([encodings_state_test,encodings_prefix_test,encodings_grade_test,padded_docs_categories_test,padded_docs_subcategories_test,padded_docs_essay_test,stacked_number_test],[y_test],batch_size=1000)"
      ],
      "execution_count": 121,
      "outputs": [
        {
          "output_type": "stream",
          "text": [
            "36052/36052 [==============================] - 5s 130us/step\n"
          ],
          "name": "stdout"
        }
      ]
    },
    {
      "cell_type": "code",
      "metadata": {
        "id": "3Wm1Ms2mAFSg",
        "colab_type": "code",
        "outputId": "89c4ed19-a7b2-48dd-8279-541e45f8d664",
        "colab": {
          "base_uri": "https://localhost:8080/",
          "height": 34
        }
      },
      "source": [
        "score"
      ],
      "execution_count": 122,
      "outputs": [
        {
          "output_type": "execute_result",
          "data": {
            "text/plain": [
              "[0.40454659601976245, 0.8494674376717659, 0.7524005067638703]"
            ]
          },
          "metadata": {
            "tags": []
          },
          "execution_count": 122
        }
      ]
    },
    {
      "cell_type": "markdown",
      "metadata": {
        "id": "1XfS_HnxuSll",
        "colab_type": "text"
      },
      "source": [
        "We are getting an AUC score of 0.75\n",
        "\n",
        "\n"
      ]
    },
    {
      "cell_type": "markdown",
      "metadata": {
        "id": "7WHP_5nHXG4Z",
        "colab_type": "text"
      },
      "source": [
        "**PLOTS**"
      ]
    },
    {
      "cell_type": "markdown",
      "metadata": {
        "id": "64JX3yJQXJ61",
        "colab_type": "text"
      },
      "source": [
        " ![alt text](https://drive.google.com/uc?id=1UsoOXu9VCd8P1jUz2tLnaB_f6tskQXKz)"
      ]
    },
    {
      "cell_type": "markdown",
      "metadata": {
        "id": "Q1Dx4jSlYXfy",
        "colab_type": "text"
      },
      "source": [
        "![alt text](https://drive.google.com/uc?id=1qOiNMuQlI43peB3XmTcYPCr2kLgYDWZl)"
      ]
    },
    {
      "cell_type": "markdown",
      "metadata": {
        "id": "X5TZk7hEuYGS",
        "colab_type": "text"
      },
      "source": [
        "\n",
        "\n",
        "```\n",
        "#\n",
        "\n",
        "# **MODEL -2 TOP IDF'S**"
      ]
    },
    {
      "cell_type": "code",
      "metadata": {
        "id": "iP5B8JrqOf0L",
        "colab_type": "code",
        "colab": {}
      },
      "source": [
        "from sklearn.feature_extraction.text import TfidfVectorizer\n",
        "\n",
        "tf_vectorizer=TfidfVectorizer()\n",
        "tf_vectorizer.fit(train_x.essay)\n",
        "matrix=tf_vectorizer.fit_transform(train_x.essay)"
      ],
      "execution_count": 0,
      "outputs": []
    },
    {
      "cell_type": "code",
      "metadata": {
        "id": "_j6xtEcSkrBY",
        "colab_type": "code",
        "colab": {}
      },
      "source": [
        "idfs=tf_vectorizer.idf_"
      ],
      "execution_count": 0,
      "outputs": []
    },
    {
      "cell_type": "code",
      "metadata": {
        "id": "nCYkA0MAePGn",
        "colab_type": "code",
        "outputId": "ba8835bc-6262-4433-e868-f2ce43d86f56",
        "colab": {
          "base_uri": "https://localhost:8080/",
          "height": 272
        }
      },
      "source": [
        "import seaborn as sns\n",
        " \n",
        "# Make boxplot for one group only\n",
        "sns.boxplot( y=tf_vectorizer.idf_ )\n"
      ],
      "execution_count": 430,
      "outputs": [
        {
          "output_type": "execute_result",
          "data": {
            "text/plain": [
              "<matplotlib.axes._subplots.AxesSubplot at 0x7fe49a8b18d0>"
            ]
          },
          "metadata": {
            "tags": []
          },
          "execution_count": 430
        },
        {
          "output_type": "display_data",
          "data": {
            "image/png": "[encoded data removed]",
            "text/plain": [
              "<Figure size 432x288 with 1 Axes>"
            ]
          },
          "metadata": {
            "tags": []
          }
        }
      ]
    },
    {
      "cell_type": "code",
      "metadata": {
        "id": "jdQMDTXdkNyX",
        "colab_type": "code",
        "outputId": "cac466b5-8ffa-4b63-bfc1-63e58e177115",
        "colab": {
          "base_uri": "https://localhost:8080/",
          "height": 34
        }
      },
      "source": [
        "idfs.mean()"
      ],
      "execution_count": 431,
      "outputs": [
        {
          "output_type": "execute_result",
          "data": {
            "text/plain": [
              "10.169920841638563"
            ]
          },
          "metadata": {
            "tags": []
          },
          "execution_count": 431
        }
      ]
    },
    {
      "cell_type": "code",
      "metadata": {
        "id": "0INOyd7QkfHF",
        "colab_type": "code",
        "outputId": "0b558a65-6908-432b-abd2-7c3e58350de0",
        "colab": {
          "base_uri": "https://localhost:8080/",
          "height": 34
        }
      },
      "source": [
        "np.percentile(idfs, 25)"
      ],
      "execution_count": 432,
      "outputs": [
        {
          "output_type": "execute_result",
          "data": {
            "text/plain": [
              "9.492859514400784"
            ]
          },
          "metadata": {
            "tags": []
          },
          "execution_count": 432
        }
      ]
    },
    {
      "cell_type": "code",
      "metadata": {
        "id": "Hkoa5vJ_k8MM",
        "colab_type": "code",
        "outputId": "ad3f6f00-0c52-4d8d-d4bb-0fd86741525a",
        "colab": {
          "base_uri": "https://localhost:8080/",
          "height": 34
        }
      },
      "source": [
        "np.percentile(idfs, 75)"
      ],
      "execution_count": 433,
      "outputs": [
        {
          "output_type": "execute_result",
          "data": {
            "text/plain": [
              "11.50776253494305"
            ]
          },
          "metadata": {
            "tags": []
          },
          "execution_count": 433
        }
      ]
    },
    {
      "cell_type": "code",
      "metadata": {
        "id": "tzrxmq_Jg0_u",
        "colab_type": "code",
        "outputId": "3cabaa5d-2932-4f09-ca94-e577f118c51c",
        "colab": {
          "base_uri": "https://localhost:8080/",
          "height": 286
        }
      },
      "source": [
        "sns.distplot(tf_vectorizer.idf_)"
      ],
      "execution_count": 434,
      "outputs": [
        {
          "output_type": "execute_result",
          "data": {
            "text/plain": [
              "<matplotlib.axes._subplots.AxesSubplot at 0x7fe49a94f7b8>"
            ]
          },
          "metadata": {
            "tags": []
          },
          "execution_count": 434
        },
        {
          "output_type": "display_data",
          "data": {
            "image/png": "[encoded data removed]",
            "text/plain": [
              "<Figure size 432x288 with 1 Axes>"
            ]
          },
          "metadata": {
            "tags": []
          }
        }
      ]
    },
    {
      "cell_type": "markdown",
      "metadata": {
        "id": "A6q7AB_HlDQA",
        "colab_type": "text"
      },
      "source": [
        "We will filter out words based on idf values between IQR range"
      ]
    },
    {
      "cell_type": "code",
      "metadata": {
        "id": "eXOrvNALg8Ze",
        "colab_type": "code",
        "colab": {}
      },
      "source": [
        "words=list(tf_vectorizer.vocabulary_.keys())\n",
        "indexes=list(tf_vectorizer.vocabulary_.values())"
      ],
      "execution_count": 0,
      "outputs": []
    },
    {
      "cell_type": "code",
      "metadata": {
        "id": "VLUcLjhKp-Gx",
        "colab_type": "code",
        "colab": {}
      },
      "source": [
        "values=dict(zip(indexes,words))\n"
      ],
      "execution_count": 0,
      "outputs": []
    },
    {
      "cell_type": "code",
      "metadata": {
        "id": "Ha-DU9s_qXAF",
        "colab_type": "code",
        "colab": {}
      },
      "source": [
        "\n",
        "filtered_words=[]\n",
        "for index,word in values.items():\n",
        "  \n",
        "  if (idfs[index]<=11.50 and idfs[index]>=9.49):\n",
        "      filtered_words.append(word)\n",
        "    "
      ],
      "execution_count": 0,
      "outputs": []
    },
    {
      "cell_type": "code",
      "metadata": {
        "id": "16-tULhtAAOd",
        "colab_type": "code",
        "outputId": "addabd69-e320-427e-e7d1-f2664aae4c1f",
        "colab": {
          "base_uri": "https://localhost:8080/",
          "height": 51
        }
      },
      "source": [
        "print(\"Number of words before filteringL\",len(words))\n",
        "print(\"Number of words after filtering:\",len(filtered_words))"
      ],
      "execution_count": 438,
      "outputs": [
        {
          "output_type": "stream",
          "text": [
            "Number of words before filteringL 48242\n",
            "Number of words after filtering: 17420\n"
          ],
          "name": "stdout"
        }
      ]
    },
    {
      "cell_type": "markdown",
      "metadata": {
        "id": "wOQC4p3J-un7",
        "colab_type": "text"
      },
      "source": [
        "**EMBEDDING FILTERED WORDS**"
      ]
    },
    {
      "cell_type": "code",
      "metadata": {
        "id": "KN8wRzQk-tZL",
        "colab_type": "code",
        "colab": {}
      },
      "source": [
        "embedding_matrix = np.zeros((48242,300))\n",
        "for word, i in encodings_essay[0].word_index.items():\n",
        "     if word in filtered_words:\n",
        "            embedding_vector = glove.get(word)\n",
        "            if embedding_vector is not None:\n",
        "                  embedding_matrix[i] = embedding_vector"
      ],
      "execution_count": 0,
      "outputs": []
    },
    {
      "cell_type": "markdown",
      "metadata": {
        "id": "IFyTauIOO0aY",
        "colab_type": "text"
      },
      "source": [
        ""
      ]
    },
    {
      "cell_type": "code",
      "metadata": {
        "id": "nV9lBkgsMquh",
        "colab_type": "code",
        "colab": {}
      },
      "source": [
        "embedding_layer_essay = Embedding(input_dim=embedding_matrix.shape[0],\n",
        "                            output_dim=embedding_matrix.shape[1], \n",
        "                            input_length=200,\n",
        "                            weights=[embedding_matrix], \n",
        "                            trainable=False, \n",
        "                            name='embedding_layer_essay')"
      ],
      "execution_count": 0,
      "outputs": []
    },
    {
      "cell_type": "code",
      "metadata": {
        "id": "ZEUeHIavTo_K",
        "colab_type": "code",
        "colab": {}
      },
      "source": [
        "filepath=\"weights_model_2.best.hdf5\"\n",
        "checkpoint = ModelCheckpoint(filepath, monitor='val_auroc', verbose=0, save_best_only=True, mode='max')"
      ],
      "execution_count": 0,
      "outputs": []
    },
    {
      "cell_type": "code",
      "metadata": {
        "id": "aQEKno4vqiCz",
        "colab_type": "code",
        "outputId": "ed7d910a-5b41-40e0-8c60-bacdf5c5f5df",
        "colab": {
          "base_uri": "https://localhost:8080/",
          "height": 411
        }
      },
      "source": [
        "\n",
        "model.compile(loss='binary_crossentropy', optimizer='adam', metrics=['accuracy',auroc])\n",
        "model.fit([encodings_state[1],encodings_prefix[1],encodings_grade[1],padded_docs_categories,padded_docs_subcategories,padded_docs_essay,stacked_numbers], [y_train_cv],\n",
        "          epochs=10, batch_size=256,validation_data=(cv_data,y_test_cv),callbacks=[tensorboard,checkpoint])"
      ],
      "execution_count": 442,
      "outputs": [
        {
          "output_type": "stream",
          "text": [
            "Train on 58556 samples, validate on 14640 samples\n",
            "Epoch 1/10\n",
            "58556/58556 [==============================] - 73s 1ms/step - loss: 0.4296 - acc: 0.8440 - auroc: 0.6501 - val_loss: 0.4415 - val_acc: 0.8522 - val_auroc: 0.7257\n",
            "Epoch 2/10\n",
            "58556/58556 [==============================] - 71s 1ms/step - loss: 0.3889 - acc: 0.8471 - auroc: 0.7296 - val_loss: 0.4402 - val_acc: 0.8522 - val_auroc: 0.7412\n",
            "Epoch 3/10\n",
            "58556/58556 [==============================] - 72s 1ms/step - loss: 0.3764 - acc: 0.8471 - auroc: 0.7557 - val_loss: 0.4183 - val_acc: 0.8522 - val_auroc: 0.7515\n",
            "Epoch 4/10\n",
            "58556/58556 [==============================] - 71s 1ms/step - loss: 0.3681 - acc: 0.8471 - auroc: 0.7708 - val_loss: 0.4256 - val_acc: 0.8522 - val_auroc: 0.7452\n",
            "Epoch 5/10\n",
            "58556/58556 [==============================] - 71s 1ms/step - loss: 0.3537 - acc: 0.8471 - auroc: 0.7956 - val_loss: 0.4059 - val_acc: 0.8522 - val_auroc: 0.7525\n",
            "Epoch 6/10\n",
            "58556/58556 [==============================] - 71s 1ms/step - loss: 0.3359 - acc: 0.8471 - auroc: 0.8240 - val_loss: 0.4073 - val_acc: 0.8522 - val_auroc: 0.7488\n",
            "Epoch 7/10\n",
            "58556/58556 [==============================] - 71s 1ms/step - loss: 0.3145 - acc: 0.8526 - auroc: 0.8533 - val_loss: 0.3978 - val_acc: 0.8486 - val_auroc: 0.7409\n",
            "Epoch 8/10\n",
            "58556/58556 [==============================] - 71s 1ms/step - loss: 0.2830 - acc: 0.8756 - auroc: 0.8916 - val_loss: 0.3843 - val_acc: 0.8462 - val_auroc: 0.7310\n",
            "Epoch 9/10\n",
            "58556/58556 [==============================] - 71s 1ms/step - loss: 0.2429 - acc: 0.8954 - auroc: 0.9263 - val_loss: 0.3990 - val_acc: 0.8415 - val_auroc: 0.7319\n",
            "Epoch 10/10\n",
            "58556/58556 [==============================] - 70s 1ms/step - loss: 0.2024 - acc: 0.9151 - auroc: 0.9511 - val_loss: 0.4298 - val_acc: 0.8100 - val_auroc: 0.7160\n"
          ],
          "name": "stdout"
        },
        {
          "output_type": "execute_result",
          "data": {
            "text/plain": [
              "<keras.callbacks.History at 0x7fe49a5d0cc0>"
            ]
          },
          "metadata": {
            "tags": []
          },
          "execution_count": 442
        }
      ]
    },
    {
      "cell_type": "code",
      "metadata": {
        "id": "LDlmyUQRY-3n",
        "colab_type": "code",
        "colab": {}
      },
      "source": [
        "model.load_weights(\"weights_model_2.best.hdf5\")"
      ],
      "execution_count": 0,
      "outputs": []
    },
    {
      "cell_type": "code",
      "metadata": {
        "id": "sJjEOO2LLmqS",
        "colab_type": "code",
        "outputId": "078b82e3-ed3f-4e57-ce60-c8556ac8c5b9",
        "colab": {
          "base_uri": "https://localhost:8080/",
          "height": 34
        }
      },
      "source": [
        "score = model.evaluate([encodings_state_test,encodings_prefix_test,encodings_grade_test,padded_docs_categories_test,padded_docs_subcategories_test,padded_docs_essay_test,stacked_number_test],[y_test],batch_size=1000)"
      ],
      "execution_count": 445,
      "outputs": [
        {
          "output_type": "stream",
          "text": [
            "36052/36052 [==============================] - 5s 134us/step\n"
          ],
          "name": "stdout"
        }
      ]
    },
    {
      "cell_type": "code",
      "metadata": {
        "id": "yP83yUZnPCMz",
        "colab_type": "code",
        "outputId": "5c77bb56-f4e6-4d07-9f9f-9e61edecba39",
        "colab": {
          "base_uri": "https://localhost:8080/",
          "height": 34
        }
      },
      "source": [
        "score"
      ],
      "execution_count": 446,
      "outputs": [
        {
          "output_type": "execute_result",
          "data": {
            "text/plain": [
              "[0.40788347899589744, 0.8494674376717659, 0.7511885903863619]"
            ]
          },
          "metadata": {
            "tags": []
          },
          "execution_count": 446
        }
      ]
    },
    {
      "cell_type": "markdown",
      "metadata": {
        "id": "fuO-IP5LPJcs",
        "colab_type": "text"
      },
      "source": [
        "We get an **AUC score of 0.75**"
      ]
    },
    {
      "cell_type": "markdown",
      "metadata": {
        "id": "jOtPGypGdlFe",
        "colab_type": "text"
      },
      "source": [
        "![alt text](https://drive.google.com/uc?id=1_45qx3WK9eKV-nHniQf8pyvYe8S3sIDx)"
      ]
    },
    {
      "cell_type": "markdown",
      "metadata": {
        "id": "fz8p23vZdsUw",
        "colab_type": "text"
      },
      "source": [
        "![alt text](https://drive.google.com/uc?id=1Qhxjqul909OoTiKJxOUQ-HcTkibwhKTi)"
      ]
    },
    {
      "cell_type": "markdown",
      "metadata": {
        "id": "7aSJe3ZFPc2W",
        "colab_type": "text"
      },
      "source": [
        "# **MODEL-3**"
      ]
    },
    {
      "cell_type": "markdown",
      "metadata": {
        "id": "SS6mxeexW1Bi",
        "colab_type": "text"
      },
      "source": [
        "**ONE-HOT ENCODING SCHOOL_STATE**\n",
        "\n",
        "```\n",
        "\n"
      ]
    },
    {
      "cell_type": "code",
      "metadata": {
        "id": "1vQrXxUcXFL9",
        "colab_type": "code",
        "outputId": "95fe6dde-4e0f-4549-a932-0eba83a15843",
        "colab": {
          "base_uri": "https://localhost:8080/",
          "height": 34
        }
      },
      "source": [
        "train_x.school_state.nunique()"
      ],
      "execution_count": 657,
      "outputs": [
        {
          "output_type": "execute_result",
          "data": {
            "text/plain": [
              "51"
            ]
          },
          "metadata": {
            "tags": []
          },
          "execution_count": 657
        }
      ]
    },
    {
      "cell_type": "code",
      "metadata": {
        "id": "0jLVVcYaPEX2",
        "colab_type": "code",
        "outputId": "de342283-13b9-4ecd-d84e-ad1ff969a498",
        "colab": {
          "base_uri": "https://localhost:8080/",
          "height": 51
        }
      },
      "source": [
        "from keras.utils import to_categorical\n",
        "\n",
        "onehot_state = to_categorical(encodings_state[1])\n",
        "print('Shape of data (AFTER  encode): %s\\n' % str(onehot_state.shape))"
      ],
      "execution_count": 658,
      "outputs": [
        {
          "output_type": "stream",
          "text": [
            "Shape of data (AFTER  encode): (58556, 52)\n",
            "\n"
          ],
          "name": "stdout"
        }
      ]
    },
    {
      "cell_type": "code",
      "metadata": {
        "id": "JVa8sqwzkzNA",
        "colab_type": "code",
        "outputId": "8e9981d8-a06d-4eee-85be-3c0bda3b34ff",
        "colab": {
          "base_uri": "https://localhost:8080/",
          "height": 51
        }
      },
      "source": [
        "onehot_state_test = to_categorical(encodings_state_test)\n",
        "print('Shape of data (AFTER  encode): %s\\n' % str(onehot_state_test.shape))"
      ],
      "execution_count": 659,
      "outputs": [
        {
          "output_type": "stream",
          "text": [
            "Shape of data (AFTER  encode): (36052, 52)\n",
            "\n"
          ],
          "name": "stdout"
        }
      ]
    },
    {
      "cell_type": "code",
      "metadata": {
        "id": "-RehG_T7dN8l",
        "colab_type": "code",
        "colab": {}
      },
      "source": [
        "onehot_state_test_cv = to_categorical(encodings_state_test_cv)"
      ],
      "execution_count": 0,
      "outputs": []
    },
    {
      "cell_type": "markdown",
      "metadata": {
        "id": "0t9uTHPFaKni",
        "colab_type": "text"
      },
      "source": [
        "**ONE_HOT ENCODING teacher_prefix**"
      ]
    },
    {
      "cell_type": "code",
      "metadata": {
        "id": "B7wpk3kIaJIL",
        "colab_type": "code",
        "outputId": "4991e6b1-ed52-4d1c-c3f9-1c3d2473d41f",
        "colab": {
          "base_uri": "https://localhost:8080/",
          "height": 51
        }
      },
      "source": [
        "from keras.utils import to_categorical\n",
        "onehot_prefix= to_categorical(encodings_prefix[1])\n",
        "print('Shape of data (AFTER  encode): %s\\n' % str(onehot_prefix.shape))"
      ],
      "execution_count": 661,
      "outputs": [
        {
          "output_type": "stream",
          "text": [
            "Shape of data (AFTER  encode): (58556, 6)\n",
            "\n"
          ],
          "name": "stdout"
        }
      ]
    },
    {
      "cell_type": "code",
      "metadata": {
        "id": "n0Wmgjgqk__Q",
        "colab_type": "code",
        "outputId": "873b0401-a4a7-4eb7-e6ac-7e85082546eb",
        "colab": {
          "base_uri": "https://localhost:8080/",
          "height": 51
        }
      },
      "source": [
        "onehot_prefix_test= to_categorical(encodings_prefix_test)\n",
        "print('Shape of data (AFTER  encode): %s\\n' % str(onehot_prefix_test.shape))"
      ],
      "execution_count": 662,
      "outputs": [
        {
          "output_type": "stream",
          "text": [
            "Shape of data (AFTER  encode): (36052, 6)\n",
            "\n"
          ],
          "name": "stdout"
        }
      ]
    },
    {
      "cell_type": "code",
      "metadata": {
        "id": "8i3DRmY0dXjk",
        "colab_type": "code",
        "colab": {}
      },
      "source": [
        "onehot_prefix_test_cv= to_categorical(encodings_prefix_test_cv)"
      ],
      "execution_count": 0,
      "outputs": []
    },
    {
      "cell_type": "markdown",
      "metadata": {
        "id": "q_pnAXejbtJx",
        "colab_type": "text"
      },
      "source": [
        "**ONE_HOT ENCODING project_grade_category**"
      ]
    },
    {
      "cell_type": "code",
      "metadata": {
        "id": "_ZO1wKfOaeLQ",
        "colab_type": "code",
        "outputId": "f57bcffc-ea57-4b0e-ba51-6afc82804274",
        "colab": {
          "base_uri": "https://localhost:8080/",
          "height": 51
        }
      },
      "source": [
        "from keras.utils import to_categorical\n",
        "onehot_grade= to_categorical(encodings_grade[1])\n",
        "print('Shape of data (AFTER  encode): %s\\n' % str(onehot_grade.shape))"
      ],
      "execution_count": 664,
      "outputs": [
        {
          "output_type": "stream",
          "text": [
            "Shape of data (AFTER  encode): (58556, 5)\n",
            "\n"
          ],
          "name": "stdout"
        }
      ]
    },
    {
      "cell_type": "code",
      "metadata": {
        "id": "8-HebEtQlJxZ",
        "colab_type": "code",
        "outputId": "13dd9597-a084-49a2-bd6d-71a07dc307ca",
        "colab": {
          "base_uri": "https://localhost:8080/",
          "height": 51
        }
      },
      "source": [
        "onehot_grade_test= to_categorical(encodings_grade_test)\n",
        "print('Shape of data (AFTER  encode): %s\\n' % str(onehot_grade_test.shape))"
      ],
      "execution_count": 665,
      "outputs": [
        {
          "output_type": "stream",
          "text": [
            "Shape of data (AFTER  encode): (36052, 5)\n",
            "\n"
          ],
          "name": "stdout"
        }
      ]
    },
    {
      "cell_type": "code",
      "metadata": {
        "id": "bIKLTIq8dng6",
        "colab_type": "code",
        "colab": {}
      },
      "source": [
        "onehot_grade_test_cv= to_categorical(encodings_grade_test_cv)"
      ],
      "execution_count": 0,
      "outputs": []
    },
    {
      "cell_type": "markdown",
      "metadata": {
        "id": "P_6hzfOQcAJ5",
        "colab_type": "text"
      },
      "source": [
        "**ONE_HOT ENCODING clean_categories**\n"
      ]
    },
    {
      "cell_type": "code",
      "metadata": {
        "id": "uY3IRnFEam91",
        "colab_type": "code",
        "colab": {}
      },
      "source": [
        "from sklearn.feature_extraction.text import CountVectorizer\n",
        "\n",
        "vectorizer_categories=CountVectorizer()\n",
        "onehot_categories=vectorizer_categories.fit_transform(train_x_cv.clean_categories).toarray()\n"
      ],
      "execution_count": 0,
      "outputs": []
    },
    {
      "cell_type": "code",
      "metadata": {
        "id": "CEaoschEcVdu",
        "colab_type": "code",
        "outputId": "5fd66b31-9129-4458-9343-023cffacc26a",
        "colab": {
          "base_uri": "https://localhost:8080/",
          "height": 34
        }
      },
      "source": [
        "onehot_categories.shape"
      ],
      "execution_count": 668,
      "outputs": [
        {
          "output_type": "execute_result",
          "data": {
            "text/plain": [
              "(58556, 9)"
            ]
          },
          "metadata": {
            "tags": []
          },
          "execution_count": 668
        }
      ]
    },
    {
      "cell_type": "code",
      "metadata": {
        "id": "eGbQPXtIlSRE",
        "colab_type": "code",
        "colab": {}
      },
      "source": [
        "onehot_categories_test=vectorizer_categories.transform(test_x.clean_categories).toarray()"
      ],
      "execution_count": 0,
      "outputs": []
    },
    {
      "cell_type": "code",
      "metadata": {
        "id": "CFIydndjdvoW",
        "colab_type": "code",
        "colab": {}
      },
      "source": [
        "onehot_categories_test_cv=vectorizer_categories.transform(test_x_cv.clean_categories).toarray()"
      ],
      "execution_count": 0,
      "outputs": []
    },
    {
      "cell_type": "markdown",
      "metadata": {
        "id": "AlYsnslOkhT7",
        "colab_type": "text"
      },
      "source": [
        "**ONE_HOT ENCODING clean_subcategories**"
      ]
    },
    {
      "cell_type": "code",
      "metadata": {
        "id": "Sw_PVVaFkcV2",
        "colab_type": "code",
        "colab": {}
      },
      "source": [
        "\n",
        "vectorizer_subcategories=CountVectorizer()\n",
        "\n",
        "onehot_subcategories=vectorizer_subcategories.fit_transform(train_x_cv.clean_subcategories).toarray()\n",
        "\n",
        "onehot_subcategories_test=vectorizer_subcategories.transform(test_x.clean_subcategories).toarray()\n",
        "\n",
        "onehot_subcategories_test_cv=vectorizer_subcategories.transform(test_x_cv.clean_subcategories).toarray()"
      ],
      "execution_count": 0,
      "outputs": []
    },
    {
      "cell_type": "markdown",
      "metadata": {
        "id": "LG3fHJiovZ4G",
        "colab_type": "text"
      },
      "source": [
        "MERGING DATA OTHER THAN ESSAY"
      ]
    },
    {
      "cell_type": "code",
      "metadata": {
        "id": "A2OpIQVEvYqz",
        "colab_type": "code",
        "colab": {}
      },
      "source": [
        "other_data=np.hstack((onehot_state,onehot_prefix,onehot_grade,onehot_categories,onehot_subcategories,stacked_numbers))\n",
        "other_data_test=np.hstack((onehot_state_test,onehot_prefix_test,onehot_grade_test,onehot_categories_test,onehot_subcategories_test,stacked_number_test))\n",
        "other_data_test_cv=np.hstack((onehot_state_test_cv,onehot_prefix_test_cv,onehot_grade_test_cv,onehot_categories_test_cv,onehot_subcategories_test_cv,stacked_number_test_cv))\n",
        "\n"
      ],
      "execution_count": 0,
      "outputs": []
    },
    {
      "cell_type": "code",
      "metadata": {
        "id": "NPX2haeu-ZcE",
        "colab_type": "code",
        "colab": {}
      },
      "source": [
        "other_data=np.expand_dims(other_data,axis=2)\n",
        "other_data_test=np.expand_dims(other_data_test,axis=2)\n",
        "other_data_test_cv=np.expand_dims(other_data_test_cv,axis=2)"
      ],
      "execution_count": 0,
      "outputs": []
    },
    {
      "cell_type": "code",
      "metadata": {
        "id": "wYukHhoHB7eT",
        "colab_type": "code",
        "colab": {}
      },
      "source": [
        ""
      ],
      "execution_count": 0,
      "outputs": []
    },
    {
      "cell_type": "markdown",
      "metadata": {
        "id": "ruJGPnah1pQI",
        "colab_type": "text"
      },
      "source": [
        "**MODEL BUILDING**"
      ]
    },
    {
      "cell_type": "code",
      "metadata": {
        "id": "cp8k4A4724iw",
        "colab_type": "code",
        "colab": {}
      },
      "source": [
        "from keras.layers import Conv1D"
      ],
      "execution_count": 0,
      "outputs": []
    },
    {
      "cell_type": "code",
      "metadata": {
        "id": "yZiETGuq1HOV",
        "colab_type": "code",
        "colab": {}
      },
      "source": [
        "input_other = Input(shape=(other_data.shape[1],1),name='model_3_input')\n",
        "conv1d_1=Conv1D(filters=64, kernel_size=(5),activation='relu',name='conv1d_1')(input_other)\n",
        "conv1d_2=Conv1D(filters=32, kernel_size=(3),activation='relu',name='conv1d_2')(conv1d_1)\n",
        "flatten_other = Flatten()(conv1d_2)\n",
        "\n"
      ],
      "execution_count": 0,
      "outputs": []
    },
    {
      "cell_type": "code",
      "metadata": {
        "id": "gBCLheti5e3z",
        "colab_type": "code",
        "colab": {}
      },
      "source": [
        "merged_data_2=concatenate([flat_lstm,flatten_other])"
      ],
      "execution_count": 0,
      "outputs": []
    },
    {
      "cell_type": "code",
      "metadata": {
        "id": "YtE3bPTTAl-H",
        "colab_type": "code",
        "outputId": "8d2b46ad-ca87-40f8-81db-ea86480e746b",
        "colab": {
          "base_uri": "https://localhost:8080/",
          "height": 1000
        }
      },
      "source": [
        "d1_1=Dense(126, activation='relu',kernel_initializer='glorot_uniform')(merged_data_2)\n",
        "dropout1_1=Dropout(0.4)(d1_1)\n",
        "d2_1=Dense(64,activation='relu',kernel_initializer='glorot_uniform')(dropout1_1)\n",
        "dropout2_1=Dropout(0.4)(d2_1)\n",
        "d3_1=d2=Dense(32,activation='relu',kernel_initializer='glorot_uniform')(dropout2_1)\n",
        "output=Dense(1, activation='sigmoid')(d3_1)\n",
        "\n",
        "model_1 = Model(inputs=[input_essay,input_other], outputs=output)\n",
        "# summarize layers\n",
        "print(model.summary())\n",
        "# plot graph\n",
        "plot_model(model_1, to_file='multiple_inputs_2.png')"
      ],
      "execution_count": 677,
      "outputs": [
        {
          "output_type": "stream",
          "text": [
            "__________________________________________________________________________________________________\n",
            "Layer (type)                    Output Shape         Param #     Connected to                     \n",
            "==================================================================================================\n",
            "essay (InputLayer)              (None, 200)          0                                            \n",
            "__________________________________________________________________________________________________\n",
            "school_state (InputLayer)       (None, 1)            0                                            \n",
            "__________________________________________________________________________________________________\n",
            "teacher_prefix (InputLayer)     (None, 1)            0                                            \n",
            "__________________________________________________________________________________________________\n",
            "project_grade_category (InputLa (None, 1)            0                                            \n",
            "__________________________________________________________________________________________________\n",
            "clean_categories (InputLayer)   (None, 3)            0                                            \n",
            "__________________________________________________________________________________________________\n",
            "clean_subcategories (InputLayer (None, 4)            0                                            \n",
            "__________________________________________________________________________________________________\n",
            "embedding_layer_essay (Embeddin (None, 200, 300)     13254300    essay[0][0]                      \n",
            "__________________________________________________________________________________________________\n",
            "embedding_16 (Embedding)        (None, 1, 6)         312         school_state[0][0]               \n",
            "__________________________________________________________________________________________________\n",
            "embedding_17 (Embedding)        (None, 1, 6)         312         teacher_prefix[0][0]             \n",
            "__________________________________________________________________________________________________\n",
            "embedding_18 (Embedding)        (None, 1, 6)         30          project_grade_category[0][0]     \n",
            "__________________________________________________________________________________________________\n",
            "embedding_19 (Embedding)        (None, 3, 16)        160         clean_categories[0][0]           \n",
            "__________________________________________________________________________________________________\n",
            "embedding_20 (Embedding)        (None, 4, 16)        496         clean_subcategories[0][0]        \n",
            "__________________________________________________________________________________________________\n",
            "lstm_4 (LSTM)                   (None, 200, 128)     219648      embedding_layer_essay[0][0]      \n",
            "__________________________________________________________________________________________________\n",
            "numericals (InputLayer)         (None, 2)            0                                            \n",
            "__________________________________________________________________________________________________\n",
            "flatten_26 (Flatten)            (None, 6)            0           embedding_16[0][0]               \n",
            "__________________________________________________________________________________________________\n",
            "flatten_27 (Flatten)            (None, 6)            0           embedding_17[0][0]               \n",
            "__________________________________________________________________________________________________\n",
            "flatten_28 (Flatten)            (None, 6)            0           embedding_18[0][0]               \n",
            "__________________________________________________________________________________________________\n",
            "flatten_29 (Flatten)            (None, 48)           0           embedding_19[0][0]               \n",
            "__________________________________________________________________________________________________\n",
            "flatten_30 (Flatten)            (None, 64)           0           embedding_20[0][0]               \n",
            "__________________________________________________________________________________________________\n",
            "flatten_32 (Flatten)            (None, 25600)        0           lstm_4[0][0]                     \n",
            "__________________________________________________________________________________________________\n",
            "dense_28 (Dense)                (None, 64)           192         numericals[0][0]                 \n",
            "__________________________________________________________________________________________________\n",
            "concatenate_7 (Concatenate)     (None, 25794)        0           flatten_26[0][0]                 \n",
            "                                                                 flatten_27[0][0]                 \n",
            "                                                                 flatten_28[0][0]                 \n",
            "                                                                 flatten_29[0][0]                 \n",
            "                                                                 flatten_30[0][0]                 \n",
            "                                                                 flatten_32[0][0]                 \n",
            "                                                                 dense_28[0][0]                   \n",
            "__________________________________________________________________________________________________\n",
            "dense_29 (Dense)                (None, 126)          3250170     concatenate_7[0][0]              \n",
            "__________________________________________________________________________________________________\n",
            "dropout_13 (Dropout)            (None, 126)          0           dense_29[0][0]                   \n",
            "__________________________________________________________________________________________________\n",
            "dense_30 (Dense)                (None, 32)           4064        dropout_13[0][0]                 \n",
            "__________________________________________________________________________________________________\n",
            "dropout_14 (Dropout)            (None, 32)           0           dense_30[0][0]                   \n",
            "__________________________________________________________________________________________________\n",
            "dense_31 (Dense)                (None, 126)          4158        dropout_14[0][0]                 \n",
            "__________________________________________________________________________________________________\n",
            "dense_32 (Dense)                (None, 1)            127         dense_31[0][0]                   \n",
            "==================================================================================================\n",
            "Total params: 16,733,969\n",
            "Trainable params: 3,479,669\n",
            "Non-trainable params: 13,254,300\n",
            "__________________________________________________________________________________________________\n",
            "None\n"
          ],
          "name": "stdout"
        }
      ]
    },
    {
      "cell_type": "code",
      "metadata": {
        "id": "vFG77nXwcgxC",
        "colab_type": "code",
        "colab": {}
      },
      "source": [
        "filepath=\"weights_model_3.best.hdf5\"\n",
        "checkpoint = ModelCheckpoint(filepath, monitor='val_auroc', verbose=0, save_best_only=True, mode='max')\n",
        "tensorboard = TensorBoard(log_dir='logs/{}'.format(time()))"
      ],
      "execution_count": 0,
      "outputs": []
    },
    {
      "cell_type": "code",
      "metadata": {
        "id": "de2cFu6cBu7B",
        "colab_type": "code",
        "outputId": "f3764c65-d4d4-484b-a211-ddac5ecb084a",
        "colab": {
          "base_uri": "https://localhost:8080/",
          "height": 411
        }
      },
      "source": [
        "model_1.compile(loss='binary_crossentropy', optimizer='adam', metrics=['accuracy',auroc])\n",
        "model_1.fit([padded_docs_essay,other_data],[y_train_cv],\n",
        "          epochs=10, batch_size=256,validation_data=([padded_docs_essay_test_cv,other_data_test_cv],y_test_cv),callbacks=[tensorboard,checkpoint])"
      ],
      "execution_count": 679,
      "outputs": [
        {
          "output_type": "stream",
          "text": [
            "Train on 58556 samples, validate on 14640 samples\n",
            "Epoch 1/10\n",
            "58556/58556 [==============================] - 76s 1ms/step - loss: 0.4194 - acc: 0.8460 - auroc: 0.6664 - val_loss: 0.4038 - val_acc: 0.8522 - val_auroc: 0.7307\n",
            "Epoch 2/10\n",
            "58556/58556 [==============================] - 74s 1ms/step - loss: 0.3794 - acc: 0.8474 - auroc: 0.7451 - val_loss: 0.3858 - val_acc: 0.8548 - val_auroc: 0.7497\n",
            "Epoch 3/10\n",
            "58556/58556 [==============================] - 74s 1ms/step - loss: 0.3619 - acc: 0.8528 - auroc: 0.7774 - val_loss: 0.3952 - val_acc: 0.8511 - val_auroc: 0.7527\n",
            "Epoch 4/10\n",
            "58556/58556 [==============================] - 74s 1ms/step - loss: 0.3341 - acc: 0.8633 - auroc: 0.8203 - val_loss: 0.3803 - val_acc: 0.8481 - val_auroc: 0.7357\n",
            "Epoch 5/10\n",
            "58556/58556 [==============================] - 73s 1ms/step - loss: 0.2863 - acc: 0.8841 - auroc: 0.8786 - val_loss: 0.3998 - val_acc: 0.8460 - val_auroc: 0.7083\n",
            "Epoch 6/10\n",
            "58556/58556 [==============================] - 73s 1ms/step - loss: 0.2169 - acc: 0.9125 - auroc: 0.9356 - val_loss: 0.4457 - val_acc: 0.8360 - val_auroc: 0.7040\n",
            "Epoch 7/10\n",
            "58556/58556 [==============================] - 73s 1ms/step - loss: 0.1546 - acc: 0.9395 - auroc: 0.9689 - val_loss: 0.5565 - val_acc: 0.8376 - val_auroc: 0.6985\n",
            "Epoch 8/10\n",
            "58556/58556 [==============================] - 73s 1ms/step - loss: 0.1164 - acc: 0.9557 - auroc: 0.9826 - val_loss: 0.6478 - val_acc: 0.8260 - val_auroc: 0.6885\n",
            "Epoch 9/10\n",
            "58556/58556 [==============================] - 73s 1ms/step - loss: 0.0892 - acc: 0.9668 - auroc: 0.9897 - val_loss: 0.7817 - val_acc: 0.8310 - val_auroc: 0.6947\n",
            "Epoch 10/10\n",
            "58556/58556 [==============================] - 73s 1ms/step - loss: 0.0717 - acc: 0.9746 - auroc: 0.9933 - val_loss: 0.8096 - val_acc: 0.8210 - val_auroc: 0.6995\n"
          ],
          "name": "stdout"
        },
        {
          "output_type": "execute_result",
          "data": {
            "text/plain": [
              "<keras.callbacks.History at 0x7fe3daf8f320>"
            ]
          },
          "metadata": {
            "tags": []
          },
          "execution_count": 679
        }
      ]
    },
    {
      "cell_type": "code",
      "metadata": {
        "id": "tB1Wisz1FXvI",
        "colab_type": "code",
        "colab": {}
      },
      "source": [
        "model_1.load_weights(\"weights_model_3.best.hdf5\")"
      ],
      "execution_count": 0,
      "outputs": []
    },
    {
      "cell_type": "code",
      "metadata": {
        "id": "NhJwjizhG7Ot",
        "colab_type": "code",
        "outputId": "887ab55a-b5f4-4b86-a3dd-f86ddc277f33",
        "colab": {
          "base_uri": "https://localhost:8080/",
          "height": 34
        }
      },
      "source": [
        "score = model_1.evaluate([padded_docs_essay_test,other_data_test],[y_test],batch_size=1000)"
      ],
      "execution_count": 685,
      "outputs": [
        {
          "output_type": "stream",
          "text": [
            "36052/36052 [==============================] - 5s 139us/step\n"
          ],
          "name": "stdout"
        }
      ]
    },
    {
      "cell_type": "code",
      "metadata": {
        "id": "BIRTXR_2KBts",
        "colab_type": "code",
        "outputId": "da1ef279-4d89-4e97-c197-256d7c9c24ac",
        "colab": {
          "base_uri": "https://localhost:8080/",
          "height": 34
        }
      },
      "source": [
        "score"
      ],
      "execution_count": 686,
      "outputs": [
        {
          "output_type": "execute_result",
          "data": {
            "text/plain": [
              "[0.39704185264642, 0.8512981286604926, 0.7464885478407257]"
            ]
          },
          "metadata": {
            "tags": []
          },
          "execution_count": 686
        }
      ]
    },
    {
      "cell_type": "markdown",
      "metadata": {
        "id": "sh2QEkCfKSLN",
        "colab_type": "text"
      },
      "source": [
        "**We got an AUC OF 0.74**"
      ]
    },
    {
      "cell_type": "markdown",
      "metadata": {
        "id": "KpSFdzggShut",
        "colab_type": "text"
      },
      "source": [
        "**PLOT**"
      ]
    },
    {
      "cell_type": "markdown",
      "metadata": {
        "id": "r_ulazGPivVS",
        "colab_type": "text"
      },
      "source": [
        "![alt text](https://drive.google.com/uc?id=19zazcJ3v7aBaEKAWnwBeoN-INYF_kic_)"
      ]
    },
    {
      "cell_type": "markdown",
      "metadata": {
        "id": "3jI8S1yci1uz",
        "colab_type": "text"
      },
      "source": [
        "![alt text](https://drive.google.com/uc?id=1m3q78AkMoXOBedoTsjJRdZ7aSaj3CbbT)"
      ]
    },
    {
      "cell_type": "markdown",
      "metadata": {
        "id": "2wE-kSQfjpEH",
        "colab_type": "text"
      },
      "source": [
        "# **CONCLUSION**"
      ]
    },
    {
      "cell_type": "code",
      "metadata": {
        "id": "qnbel2YdKPqu",
        "colab_type": "code",
        "outputId": "fde26950-7cea-4292-d056-2e20140e945c",
        "colab": {
          "base_uri": "https://localhost:8080/",
          "height": 136
        }
      },
      "source": [
        "from prettytable import PrettyTable\n",
        "    \n",
        "x = PrettyTable()\n",
        "\n",
        "x.field_names = [\"Model\", \"Loss\", \"Accuracy\", \"AUC\"]\n",
        "\n",
        "x.add_row([\"Model-1\", 0.40454659601976245, 0.8494674376717659, 0.7524005067638703])\n",
        "x.add_row([\"Model-2\", 0.40788347899589744, 0.8494674376717659, 0.7511885903863619])\n",
        "x.add_row([\"Model-3\", 0.39704185264642, 0.8512981286604926, 0.7464885478407257])\n",
        "print(x)"
      ],
      "execution_count": 687,
      "outputs": [
        {
          "output_type": "stream",
          "text": [
            "+---------+---------------------+--------------------+--------------------+\n",
            "|  Model  |         Loss        |      Accuracy      |        AUC         |\n",
            "+---------+---------------------+--------------------+--------------------+\n",
            "| Model-1 | 0.40454659601976245 | 0.8494674376717659 | 0.7524005067638703 |\n",
            "| Model-2 | 0.40788347899589744 | 0.8494674376717659 | 0.7511885903863619 |\n",
            "| Model-3 |   0.39704185264642  | 0.8512981286604926 | 0.7464885478407257 |\n",
            "+---------+---------------------+--------------------+--------------------+\n"
          ],
          "name": "stdout"
        }
      ]
    },
    {
      "cell_type": "code",
      "metadata": {
        "id": "z50ohXKfkXSe",
        "colab_type": "code",
        "colab": {}
      },
      "source": [
        ""
      ],
      "execution_count": 0,
      "outputs": []
    }
  ]
}